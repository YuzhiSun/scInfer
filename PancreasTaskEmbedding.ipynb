{
 "cells": [
  {
   "cell_type": "code",
   "execution_count": 1,
   "outputs": [],
   "source": [
    "import scanpy as sc\n",
    "from torch.utils import data\n",
    "import torch.optim as optim\n",
    "import warnings "
   ],
   "metadata": {
    "collapsed": false,
    "ExecuteTime": {
     "end_time": "2025-02-24T11:17:52.454476700Z",
     "start_time": "2025-02-24T11:17:50.855376100Z"
    }
   },
   "id": "2c70bbaa771b04e5"
  },
  {
   "cell_type": "code",
   "execution_count": 2,
   "outputs": [],
   "source": [
    "warnings.filterwarnings(\"ignore\")"
   ],
   "metadata": {
    "collapsed": false,
    "ExecuteTime": {
     "end_time": "2025-02-24T11:17:52.455472Z",
     "start_time": "2025-02-24T11:17:52.453481400Z"
    }
   },
   "id": "3d7a00cbddf07d0"
  },
  {
   "cell_type": "code",
   "execution_count": 3,
   "outputs": [],
   "source": [
    "from scInferCode.utils import *\n",
    "from scInferCode.model import *"
   ],
   "metadata": {
    "collapsed": false,
    "ExecuteTime": {
     "end_time": "2025-02-24T11:17:52.553047800Z",
     "start_time": "2025-02-24T11:17:52.454476700Z"
    }
   },
   "id": "7f76505f122bc7fc"
  },
  {
   "cell_type": "code",
   "execution_count": 4,
   "outputs": [],
   "source": [
    "rna = sc.read_h5ad('./scInferData/PancreasTask/wt.h5ad')\n",
    "protein = sc.read_h5ad('./scInferData/PancreasTask/protein.h5ad')"
   ],
   "metadata": {
    "collapsed": false,
    "ExecuteTime": {
     "end_time": "2025-02-24T11:17:52.899337500Z",
     "start_time": "2025-02-24T11:17:52.521047600Z"
    }
   },
   "id": "5a8c5b73ece11b1f"
  },
  {
   "cell_type": "code",
   "execution_count": 5,
   "outputs": [],
   "source": [
    "rna.obs['celltype'] = rna.obs['cell_type']"
   ],
   "metadata": {
    "collapsed": false,
    "ExecuteTime": {
     "end_time": "2025-02-24T11:17:52.903861200Z",
     "start_time": "2025-02-24T11:17:52.900341400Z"
    }
   },
   "id": "cf28d0f5fe2d36fe"
  },
  {
   "cell_type": "code",
   "execution_count": 6,
   "outputs": [
    {
     "name": "stdout",
     "output_type": "stream",
     "text": [
      "Counts of all celltype:\n",
      "              count\n",
      "celltype          \n",
      "alpha            7\n",
      "beta_1         627\n",
      "beta_2         113\n",
      "delta           15\n",
      "vasculature     48\n",
      "neg_samples:75000, pos_samples:52644\n"
     ]
    }
   ],
   "source": [
    "sample_df = make_paired_samples(rna, protein)"
   ],
   "metadata": {
    "collapsed": false,
    "ExecuteTime": {
     "end_time": "2025-02-24T11:17:55.281597100Z",
     "start_time": "2025-02-24T11:17:53.065880200Z"
    }
   },
   "id": "57c712d70ccc4f2b"
  },
  {
   "cell_type": "code",
   "execution_count": 7,
   "outputs": [],
   "source": [
    "train_dataset, valid_dataset, rna_df, protein_df = make_scInfer_dataset(rna, protein, sample_df, rna_vars='highly_variable', protein_vars='importance', test_size=0.3, random_state=2024)"
   ],
   "metadata": {
    "collapsed": false,
    "ExecuteTime": {
     "end_time": "2025-02-24T11:17:55.412055Z",
     "start_time": "2025-02-24T11:17:55.278572500Z"
    }
   },
   "id": "3187be67fce91ed1"
  },
  {
   "cell_type": "code",
   "execution_count": 8,
   "outputs": [],
   "source": [
    "input_size = train_dataset.get_size()\n",
    "batch_size = 2048\n",
    "hidden_size = 256\n",
    "embedding_size = 32\n",
    "num_epochs = 100\n",
    "margin = 1.0\n",
    "device = torch.device(\"cuda\" if torch.cuda.is_available() else \"cpu\")"
   ],
   "metadata": {
    "collapsed": false,
    "ExecuteTime": {
     "end_time": "2025-02-24T11:17:55.445131900Z",
     "start_time": "2025-02-24T11:17:55.441131500Z"
    }
   },
   "id": "2ce6789d7ee37757"
  },
  {
   "cell_type": "code",
   "execution_count": 9,
   "outputs": [],
   "source": [
    "model = ContrastiveNetwork(input_size, hidden_size, embedding_size).to(device)\n",
    "criterion = ContrastiveLoss(margin)\n",
    "optimizer = optim.Adam(model.parameters(), lr=0.001)"
   ],
   "metadata": {
    "collapsed": false,
    "ExecuteTime": {
     "end_time": "2025-02-24T11:17:56.029140700Z",
     "start_time": "2025-02-24T11:17:55.444131400Z"
    }
   },
   "id": "2f2a846a69a0a50"
  },
  {
   "cell_type": "code",
   "execution_count": 10,
   "outputs": [],
   "source": [
    "train_loader = torch.utils.data.DataLoader(\n",
    "    train_dataset,\n",
    "    batch_size=batch_size, shuffle=True)\n",
    "test_loader = torch.utils.data.DataLoader(\n",
    "    valid_dataset,\n",
    "    batch_size=batch_size, shuffle=False)"
   ],
   "metadata": {
    "collapsed": false,
    "ExecuteTime": {
     "end_time": "2025-02-24T11:17:56.034141800Z",
     "start_time": "2025-02-24T11:17:56.031142400Z"
    }
   },
   "id": "f24be57c19ec577d"
  },
  {
   "cell_type": "code",
   "execution_count": 29,
   "outputs": [
    {
     "name": "stdout",
     "output_type": "stream",
     "text": [
      "lr: 0.000900\n",
      "epoch:0| Train Loss: 3.17322893905186e-05 | Test Loss: 1.4773567325889445e-05\n",
      "epoch:1| Train Loss: 7.942978597064224e-06 | Test Loss: 5.5472944800540065e-06\n",
      "epoch:2| Train Loss: 4.028317867191931e-06 | Test Loss: 3.344453870763746e-06\n",
      "epoch:3| Train Loss: 2.6397194627882984e-06 | Test Loss: 2.3607935405453984e-06\n",
      "epoch:4| Train Loss: 1.912230094681089e-06 | Test Loss: 1.8607508815774787e-06\n",
      "epoch:5| Train Loss: 1.4669578324400919e-06 | Test Loss: 1.5771404606625637e-06\n",
      "epoch:6| Train Loss: 1.1352520025891336e-06 | Test Loss: 1.3501368516641396e-06\n",
      "epoch:7| Train Loss: 8.975874481980168e-07 | Test Loss: 1.143926008981286e-06\n",
      "epoch:8| Train Loss: 7.217069545778471e-07 | Test Loss: 9.974938564488143e-07\n",
      "epoch:9| Train Loss: 5.505698550363276e-07 | Test Loss: 8.298692786389511e-07\n",
      "lr: 0.000810\n",
      "epoch:10| Train Loss: 4.2971623847787447e-07 | Test Loss: 7.427754845893753e-07\n",
      "epoch:11| Train Loss: 3.424967490876678e-07 | Test Loss: 6.501920023701912e-07\n",
      "epoch:12| Train Loss: 2.6884231892027166e-07 | Test Loss: 6.253257584848818e-07\n",
      "epoch:13| Train Loss: 2.1759559556468695e-07 | Test Loss: 5.63417608685688e-07\n",
      "epoch:14| Train Loss: 1.7404430885275457e-07 | Test Loss: 5.339979081112435e-07\n",
      "epoch:15| Train Loss: 1.5151236386355753e-07 | Test Loss: 5.286375326364933e-07\n",
      "epoch:16| Train Loss: 1.2736703133941215e-07 | Test Loss: 4.856272313106686e-07\n",
      "epoch:17| Train Loss: 1.1306371135667391e-07 | Test Loss: 4.640520523582573e-07\n",
      "epoch:18| Train Loss: 9.847855994479952e-08 | Test Loss: 4.606574208359106e-07\n",
      "epoch:19| Train Loss: 8.546127479434301e-08 | Test Loss: 4.5587289748678744e-07\n",
      "lr: 0.000729\n",
      "epoch:20| Train Loss: 7.646571222740154e-08 | Test Loss: 4.3810952421352765e-07\n",
      "epoch:21| Train Loss: 6.674943515529547e-08 | Test Loss: 4.3526456968564273e-07\n",
      "epoch:22| Train Loss: 5.874734910459856e-08 | Test Loss: 4.251949504417194e-07\n",
      "epoch:23| Train Loss: 5.2162927491892654e-08 | Test Loss: 4.360516349149029e-07\n",
      "epoch:24| Train Loss: 4.772671677052837e-08 | Test Loss: 4.1449653125182155e-07\n",
      "epoch:25| Train Loss: 4.239110701341415e-08 | Test Loss: 4.1004087742480893e-07\n",
      "epoch:26| Train Loss: 3.6841271484633424e-08 | Test Loss: 3.784508501232802e-07\n",
      "epoch:27| Train Loss: 3.194150201191685e-08 | Test Loss: 3.6641856952830945e-07\n",
      "epoch:28| Train Loss: 2.873372741112101e-08 | Test Loss: 3.567805227393584e-07\n",
      "epoch:29| Train Loss: 2.5104790375889533e-08 | Test Loss: 3.463642792801277e-07\n",
      "lr: 0.000656\n",
      "epoch:30| Train Loss: 2.1514731994686753e-08 | Test Loss: 3.649857533706605e-07\n",
      "epoch:31| Train Loss: 2.007197926495074e-08 | Test Loss: 3.406512067285965e-07\n",
      "epoch:32| Train Loss: 1.842424692996482e-08 | Test Loss: 3.432731797749639e-07\n",
      "epoch:33| Train Loss: 1.6749182360446905e-08 | Test Loss: 3.4203670498392895e-07\n",
      "epoch:34| Train Loss: 1.5523420469851036e-08 | Test Loss: 3.3615272005693885e-07\n",
      "epoch:35| Train Loss: 1.4398540525538738e-08 | Test Loss: 3.394077995520568e-07\n",
      "epoch:36| Train Loss: 1.3901968694258914e-08 | Test Loss: 3.3926725965407477e-07\n",
      "epoch:37| Train Loss: 1.2612516462355205e-08 | Test Loss: 3.3809007444596833e-07\n",
      "epoch:38| Train Loss: 1.1954665599878414e-08 | Test Loss: 3.387674948567346e-07\n",
      "epoch:39| Train Loss: 1.1063740275878794e-08 | Test Loss: 3.304159921405475e-07\n",
      "lr: 0.000590\n",
      "epoch:40| Train Loss: 1.1052097959912194e-08 | Test Loss: 3.336371757984192e-07\n",
      "epoch:41| Train Loss: 1.0115657938023712e-08 | Test Loss: 3.3084293950596966e-07\n",
      "epoch:42| Train Loss: 9.572126966368623e-09 | Test Loss: 3.2595263480268474e-07\n",
      "epoch:43| Train Loss: 8.831361324687148e-09 | Test Loss: 3.3281497458527496e-07\n",
      "epoch:44| Train Loss: 8.220301526743256e-09 | Test Loss: 3.4008054706388146e-07\n",
      "epoch:45| Train Loss: 8.117467531014263e-09 | Test Loss: 3.384218117715534e-07\n",
      "epoch:46| Train Loss: 7.971593609633327e-09 | Test Loss: 3.4314884438688144e-07\n",
      "epoch:47| Train Loss: 7.4015525520480044e-09 | Test Loss: 3.294785622664966e-07\n",
      "epoch:48| Train Loss: 1.7419608268204338e-07 | Test Loss: 8.861420630341321e-07\n",
      "epoch:49| Train Loss: 7.341776192229956e-07 | Test Loss: 9.686187069800627e-07\n",
      "lr: 0.000531\n",
      "epoch:50| Train Loss: 1.7334190993206278e-07 | Test Loss: 2.715429802532373e-07\n",
      "epoch:51| Train Loss: 5.868173376965859e-08 | Test Loss: 2.990678324314123e-07\n",
      "epoch:52| Train Loss: 3.7135613173711914e-08 | Test Loss: 2.47996216147557e-07\n",
      "epoch:53| Train Loss: 3.202432875284872e-08 | Test Loss: 2.462026703653625e-07\n",
      "epoch:54| Train Loss: 3.054240924197681e-08 | Test Loss: 2.545170799289082e-07\n",
      "epoch:55| Train Loss: 2.9778838827335063e-08 | Test Loss: 2.458593503418841e-07\n",
      "epoch:56| Train Loss: 2.8665272126807317e-08 | Test Loss: 2.5229240822148206e-07\n",
      "epoch:57| Train Loss: 2.7897977450965197e-08 | Test Loss: 2.5243793400010463e-07\n",
      "epoch:58| Train Loss: 2.719562629528614e-08 | Test Loss: 2.652894376370145e-07\n",
      "epoch:59| Train Loss: 2.716155375836591e-08 | Test Loss: 2.599026751545064e-07\n",
      "lr: 0.000478\n",
      "epoch:60| Train Loss: 2.7288507207499523e-08 | Test Loss: 2.3838502895020396e-07\n",
      "epoch:61| Train Loss: 2.6524411194495452e-08 | Test Loss: 2.4866817163375587e-07\n",
      "epoch:62| Train Loss: 2.624884296728678e-08 | Test Loss: 2.5429531447557977e-07\n",
      "epoch:63| Train Loss: 2.5911891466698745e-08 | Test Loss: 2.566232464289694e-07\n",
      "epoch:64| Train Loss: 2.663705601187154e-08 | Test Loss: 2.599720329012593e-07\n",
      "epoch:65| Train Loss: 2.5796466359136928e-08 | Test Loss: 2.670789054063734e-07\n",
      "epoch:66| Train Loss: 2.5728742146717173e-08 | Test Loss: 2.664153681374882e-07\n",
      "epoch:67| Train Loss: 2.535789495426992e-08 | Test Loss: 2.5942903946021407e-07\n",
      "epoch:68| Train Loss: 2.5285815837430743e-08 | Test Loss: 2.6929027274343317e-07\n",
      "epoch:69| Train Loss: 2.527887526044116e-08 | Test Loss: 2.635901235596568e-07\n",
      "lr: 0.000430\n",
      "epoch:70| Train Loss: 2.4995158042136693e-08 | Test Loss: 2.7446396299486615e-07\n",
      "Early stopping at epoch 70. Best Test Loss: 0.000000\n"
     ]
    },
    {
     "data": {
      "text/plain": "<Figure size 640x480 with 1 Axes>",
      "image/png": "[encoded data removed]"
     },
     "metadata": {},
     "output_type": "display_data"
    }
   ],
   "source": [
    "model = train_embeddings(num_epochs, optimizer, device, model, criterion, train_loader, test_loader)"
   ],
   "metadata": {
    "collapsed": false,
    "ExecuteTime": {
     "end_time": "2025-02-24T11:04:58.338283600Z",
     "start_time": "2025-02-24T10:46:20.007625Z"
    }
   },
   "id": "884a21502e3b8c70"
  },
  {
   "cell_type": "code",
   "execution_count": 11,
   "outputs": [],
   "source": [
    "model_path = f'./scInferData/ModelParams/PancreasTask2025.pth'"
   ],
   "metadata": {
    "collapsed": false,
    "ExecuteTime": {
     "end_time": "2025-02-24T11:18:01.080471800Z",
     "start_time": "2025-02-24T11:18:01.051451600Z"
    }
   },
   "id": "2cbc8e6af1f0d816"
  },
  {
   "cell_type": "code",
   "execution_count": 31,
   "outputs": [],
   "source": [
    "torch.save(model.state_dict(), model_path)"
   ],
   "metadata": {
    "collapsed": false,
    "ExecuteTime": {
     "end_time": "2025-02-24T11:05:37.167973100Z",
     "start_time": "2025-02-24T11:05:36.998374200Z"
    }
   },
   "id": "4c7e35c8db36ebc1"
  },
  {
   "cell_type": "code",
   "execution_count": 12,
   "outputs": [
    {
     "data": {
      "text/plain": "ContrastiveNetwork(\n  (protein_branch): Sequential(\n    (0): Linear(in_features=112, out_features=32, bias=True)\n    (1): BatchNorm1d(32, eps=1e-05, momentum=0.1, affine=True, track_running_stats=True)\n    (2): ReLU()\n  )\n  (rna_branch): Sequential(\n    (0): Linear(in_features=2851, out_features=512, bias=True)\n    (1): BatchNorm1d(512, eps=1e-05, momentum=0.1, affine=True, track_running_stats=True)\n    (2): ReLU()\n    (3): Linear(in_features=512, out_features=256, bias=True)\n    (4): BatchNorm1d(256, eps=1e-05, momentum=0.1, affine=True, track_running_stats=True)\n    (5): ReLU()\n    (6): Linear(in_features=256, out_features=32, bias=True)\n    (7): BatchNorm1d(32, eps=1e-05, momentum=0.1, affine=True, track_running_stats=True)\n    (8): ReLU()\n  )\n)"
     },
     "execution_count": 12,
     "metadata": {},
     "output_type": "execute_result"
    }
   ],
   "source": [
    "model = ContrastiveNetwork(input_size, hidden_size, embedding_size).to(device)\n",
    "model.load_state_dict(torch.load(model_path))\n",
    "model.eval()"
   ],
   "metadata": {
    "collapsed": false,
    "ExecuteTime": {
     "end_time": "2025-02-24T11:18:03.966386900Z",
     "start_time": "2025-02-24T11:18:03.936388600Z"
    }
   },
   "id": "de7dd3b1beab6e5e"
  },
  {
   "cell_type": "code",
   "execution_count": 14,
   "outputs": [],
   "source": [
    "rna_em_ann, protein_em_ann = make_embeddings(model, device, rna_df, protein_df, rna, protein, celltype = 'celltype')"
   ],
   "metadata": {
    "collapsed": false,
    "ExecuteTime": {
     "end_time": "2025-02-24T11:19:03.497019700Z",
     "start_time": "2025-02-24T11:19:01.449119600Z"
    }
   },
   "id": "ccc744f3f2e7814b"
  },
  {
   "cell_type": "code",
   "execution_count": 15,
   "outputs": [],
   "source": [
    "import anndata as ad\n",
    "import scanpy as sc"
   ],
   "metadata": {
    "collapsed": false,
    "ExecuteTime": {
     "end_time": "2025-02-24T11:19:08.000049100Z",
     "start_time": "2025-02-24T11:19:07.975829700Z"
    }
   },
   "id": "e051da785b8e3814"
  },
  {
   "cell_type": "code",
   "execution_count": 18,
   "outputs": [],
   "source": [
    "rna_em_ann.write('./scInferData/PancreasTask/rna_wt_embeddings.h5ad')\n",
    "protein_em_ann.write('./scInferData/PancreasTask/protein_embeddings.h5ad')"
   ],
   "metadata": {
    "collapsed": false,
    "ExecuteTime": {
     "end_time": "2025-02-24T11:19:13.959789100Z",
     "start_time": "2025-02-24T11:19:13.875615500Z"
    }
   },
   "id": "cbf66580b302b5c5"
  },
  {
   "cell_type": "code",
   "execution_count": 19,
   "outputs": [],
   "source": [
    "gko = sc.read_h5ad('./scInferData/PancreasTask/gko.h5ad')"
   ],
   "metadata": {
    "collapsed": false,
    "ExecuteTime": {
     "end_time": "2025-02-24T11:19:15.361887900Z",
     "start_time": "2025-02-24T11:19:15.097833800Z"
    }
   },
   "id": "61c63f567e63e23f"
  },
  {
   "cell_type": "code",
   "execution_count": 20,
   "outputs": [],
   "source": [
    "gko.obs['celltype'] = gko.obs['cell_type']"
   ],
   "metadata": {
    "collapsed": false,
    "ExecuteTime": {
     "end_time": "2025-02-24T11:19:16.931495500Z",
     "start_time": "2025-02-24T11:19:16.906989200Z"
    }
   },
   "id": "6cd7544aca8e1e7a"
  },
  {
   "cell_type": "code",
   "execution_count": 21,
   "outputs": [],
   "source": [
    "gko_df= make_unlabeled_dataframe(rna, gko, rna_vars='highly_variable')"
   ],
   "metadata": {
    "collapsed": false,
    "ExecuteTime": {
     "end_time": "2025-02-24T11:19:38.922202100Z",
     "start_time": "2025-02-24T11:19:38.703271Z"
    }
   },
   "id": "fb9577657fb107d3"
  },
  {
   "cell_type": "code",
   "execution_count": 22,
   "outputs": [],
   "source": [
    "gko_em_ann, _ = make_embeddings(model, device, gko_df, protein_df, gko, protein)"
   ],
   "metadata": {
    "collapsed": false,
    "ExecuteTime": {
     "end_time": "2025-02-24T11:20:29.888462500Z",
     "start_time": "2025-02-24T11:20:28.023247700Z"
    }
   },
   "id": "6c9481e80c1249ab"
  },
  {
   "cell_type": "code",
   "execution_count": 24,
   "outputs": [],
   "source": [
    "gko_em_ann_target = gko_em_ann[(gko_em_ann.obs['celltype'] == 'alpha')  | (gko_em_ann.obs['celltype'] == 'beta') | (gko_em_ann.obs['celltype'] == 'delta')]"
   ],
   "metadata": {
    "collapsed": false,
    "ExecuteTime": {
     "end_time": "2025-02-24T11:21:07.845994100Z",
     "start_time": "2025-02-24T11:21:07.798396800Z"
    }
   },
   "id": "969963b232b417e1"
  },
  {
   "cell_type": "code",
   "execution_count": 25,
   "outputs": [
    {
     "data": {
      "text/plain": "View of AnnData object with n_obs × n_vars = 3387 × 32\n    obs: 'celltype'"
     },
     "execution_count": 25,
     "metadata": {},
     "output_type": "execute_result"
    }
   ],
   "source": [
    "gko_em_ann_target"
   ],
   "metadata": {
    "collapsed": false,
    "ExecuteTime": {
     "end_time": "2025-02-24T11:21:10.497483700Z",
     "start_time": "2025-02-24T11:21:10.441508900Z"
    }
   },
   "id": "701ad9707a238358"
  },
  {
   "cell_type": "code",
   "execution_count": 38,
   "outputs": [],
   "source": [
    "gko_em_ann_target.write('./scInferData/PancreasTask/gko_embeddings.h5ad')"
   ],
   "metadata": {
    "collapsed": false,
    "ExecuteTime": {
     "end_time": "2025-02-24T11:27:12.213697800Z",
     "start_time": "2025-02-24T11:27:12.173720Z"
    }
   },
   "id": "427fba1528465356"
  }
 ],
 "metadata": {
  "kernelspec": {
   "display_name": "Python 3",
   "language": "python",
   "name": "python3"
  },
  "language_info": {
   "codemirror_mode": {
    "name": "ipython",
    "version": 2
   },
   "file_extension": ".py",
   "mimetype": "text/x-python",
   "name": "python",
   "nbconvert_exporter": "python",
   "pygments_lexer": "ipython2",
   "version": "2.7.6"
  }
 },
 "nbformat": 4,
 "nbformat_minor": 5
}
