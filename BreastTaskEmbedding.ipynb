{
 "cells": [
  {
   "cell_type": "code",
   "execution_count": 1,
   "outputs": [],
   "source": [
    "import scanpy as sc\n",
    "from torch.utils import data\n",
    "import torch\n",
    "import torch.optim as optim\n",
    "import warnings"
   ],
   "metadata": {
    "collapsed": false,
    "ExecuteTime": {
     "end_time": "2025-02-24T11:27:26.322400200Z",
     "start_time": "2025-02-24T11:27:24.734560200Z"
    }
   },
   "id": "2c70bbaa771b04e5"
  },
  {
   "cell_type": "code",
   "execution_count": 2,
   "outputs": [],
   "source": [
    "warnings.filterwarnings(\"ignore\")"
   ],
   "metadata": {
    "collapsed": false,
    "ExecuteTime": {
     "end_time": "2025-02-24T11:27:27.926329600Z",
     "start_time": "2025-02-24T11:27:27.921330800Z"
    }
   },
   "id": "63a1c3eb29f74464"
  },
  {
   "cell_type": "code",
   "execution_count": 3,
   "outputs": [],
   "source": [
    "from scInferCode.model import ContrastiveNetwork\n",
    "from scInferCode.model import ContrastiveLoss\n",
    "from scInferCode.utils import make_paired_samples\n",
    "from scInferCode.utils import make_scInfer_dataset\n",
    "from scInferCode.utils import train_embeddings\n",
    "from scInferCode.utils import make_embeddings\n"
   ],
   "metadata": {
    "collapsed": false,
    "ExecuteTime": {
     "end_time": "2025-02-24T11:27:28.729244200Z",
     "start_time": "2025-02-24T11:27:28.704244800Z"
    }
   },
   "id": "b1e873a3f394d8a8"
  },
  {
   "cell_type": "code",
   "execution_count": 4,
   "outputs": [],
   "source": [
    "rna = sc.read_h5ad('./scInferData/BreastTask/rna.h5ad')\n",
    "protein = sc.read_h5ad('./scInferData/BreastTask/protein.h5ad')"
   ],
   "metadata": {
    "collapsed": false,
    "ExecuteTime": {
     "end_time": "2025-02-24T11:27:41.936023900Z",
     "start_time": "2025-02-24T11:27:29.716881200Z"
    }
   },
   "id": "5a8c5b73ece11b1f"
  },
  {
   "cell_type": "code",
   "execution_count": 5,
   "outputs": [
    {
     "name": "stdout",
     "output_type": "stream",
     "text": [
      "Counts of all celltype:\n",
      "              count\n",
      "celltype          \n",
      "macrophage     130\n",
      "monocyte       130\n",
      "epithelial     139\n",
      "mesenchymal    131\n",
      "neg_samples:60000, pos_samples:60000\n"
     ]
    }
   ],
   "source": [
    "sample_df = make_paired_samples(rna, protein)"
   ],
   "metadata": {
    "collapsed": false,
    "ExecuteTime": {
     "end_time": "2025-02-24T11:27:44.534256500Z",
     "start_time": "2025-02-24T11:27:41.941016600Z"
    }
   },
   "id": "2d013b362620b1fd"
  },
  {
   "cell_type": "code",
   "execution_count": 6,
   "outputs": [],
   "source": [
    "train_dataset, valid_dataset, rna_df, protein_df = make_scInfer_dataset(rna, protein, sample_df, rna_vars='highly_variable', protein_vars='importance', test_size=0.3, random_state=2024)"
   ],
   "metadata": {
    "collapsed": false,
    "ExecuteTime": {
     "end_time": "2025-02-24T11:27:46.256557Z",
     "start_time": "2025-02-24T11:27:46.062695600Z"
    }
   },
   "id": "294058f5bc3d3908"
  },
  {
   "cell_type": "markdown",
   "source": [
    "### 开始训练"
   ],
   "metadata": {
    "collapsed": false
   },
   "id": "47e6373154152861"
  },
  {
   "cell_type": "code",
   "execution_count": 7,
   "outputs": [],
   "source": [
    "input_size = train_dataset.get_size()\n",
    "batch_size = 512\n",
    "hidden_size = 256\n",
    "embedding_size = 32\n",
    "num_epochs = 100\n",
    "margin = 1.0\n",
    "learning_rate = 0.001\n",
    "device = torch.device(\"cuda\" if torch.cuda.is_available() else \"cpu\")"
   ],
   "metadata": {
    "collapsed": false,
    "ExecuteTime": {
     "end_time": "2025-02-24T11:27:48.638609900Z",
     "start_time": "2025-02-24T11:27:48.630611Z"
    }
   },
   "id": "2ce6789d7ee37757"
  },
  {
   "cell_type": "code",
   "execution_count": 8,
   "outputs": [],
   "source": [
    "model = ContrastiveNetwork(input_size, hidden_size, embedding_size).to(device)\n",
    "criterion = ContrastiveLoss(margin)\n",
    "optimizer = optim.Adam(model.parameters(), lr=learning_rate)"
   ],
   "metadata": {
    "collapsed": false,
    "ExecuteTime": {
     "end_time": "2025-02-24T11:27:49.536877100Z",
     "start_time": "2025-02-24T11:27:49.007476100Z"
    }
   },
   "id": "2f2a846a69a0a50"
  },
  {
   "cell_type": "code",
   "execution_count": 9,
   "outputs": [],
   "source": [
    "train_loader = torch.utils.data.DataLoader(\n",
    "    train_dataset,\n",
    "    batch_size=batch_size, shuffle=True)\n",
    "test_loader = torch.utils.data.DataLoader(\n",
    "    valid_dataset,\n",
    "    batch_size=batch_size, shuffle=False)"
   ],
   "metadata": {
    "collapsed": false,
    "ExecuteTime": {
     "end_time": "2025-02-24T11:27:49.816564600Z",
     "start_time": "2025-02-24T11:27:49.795435Z"
    }
   },
   "id": "f24be57c19ec577d"
  },
  {
   "cell_type": "code",
   "execution_count": 10,
   "outputs": [
    {
     "data": {
      "text/plain": "{'protein': 127, 'rna': 2529}"
     },
     "execution_count": 10,
     "metadata": {},
     "output_type": "execute_result"
    }
   ],
   "source": [
    "input_size"
   ],
   "metadata": {
    "collapsed": false,
    "ExecuteTime": {
     "end_time": "2025-02-24T11:27:50.137301400Z",
     "start_time": "2025-02-24T11:27:50.120938500Z"
    }
   },
   "id": "28ea7748057f8f93"
  },
  {
   "cell_type": "code",
   "execution_count": 11,
   "outputs": [
    {
     "data": {
      "text/plain": "device(type='cuda')"
     },
     "execution_count": 11,
     "metadata": {},
     "output_type": "execute_result"
    }
   ],
   "source": [
    "device"
   ],
   "metadata": {
    "collapsed": false,
    "ExecuteTime": {
     "end_time": "2025-02-24T11:27:51.234994900Z",
     "start_time": "2025-02-24T11:27:51.230976600Z"
    }
   },
   "id": "99cc662509a0162d"
  },
  {
   "cell_type": "code",
   "execution_count": 12,
   "outputs": [
    {
     "name": "stdout",
     "output_type": "stream",
     "text": [
      "lr: 0.000900\n",
      "epoch:0| Train Loss: 0.00011907619311075125 | Test Loss: 4.6712028638770184e-05\n",
      "epoch:1| Train Loss: 2.6719739483225914e-05 | Test Loss: 1.878569229868137e-05\n",
      "epoch:2| Train Loss: 1.3709024991840124e-05 | Test Loss: 1.1615693983104495e-05\n",
      "epoch:3| Train Loss: 9.944446418168289e-06 | Test Loss: 9.83235154611369e-06\n",
      "epoch:4| Train Loss: 8.239068451248818e-06 | Test Loss: 8.495448493502206e-06\n",
      "epoch:5| Train Loss: 5.60844590100238e-06 | Test Loss: 6.7767087732338245e-06\n",
      "epoch:6| Train Loss: 4.641903231718711e-06 | Test Loss: 6.9110142131749955e-06\n",
      "epoch:7| Train Loss: 4.043550854216197e-06 | Test Loss: 7.585731716567857e-06\n",
      "epoch:8| Train Loss: 3.625875860702113e-06 | Test Loss: 5.909687841065331e-06\n",
      "epoch:9| Train Loss: 4.183431580756968e-06 | Test Loss: 6.604388352975042e-06\n",
      "lr: 0.000810\n",
      "epoch:10| Train Loss: 4.9746552748339515e-06 | Test Loss: 5.941870185779408e-06\n",
      "epoch:11| Train Loss: 2.977062614739961e-06 | Test Loss: 6.41185501525696e-06\n",
      "epoch:12| Train Loss: 2.279113624397377e-06 | Test Loss: 5.416923938254412e-06\n",
      "epoch:13| Train Loss: 1.9998176039301878e-06 | Test Loss: 5.276778129175202e-06\n",
      "epoch:14| Train Loss: 1.997155635243481e-06 | Test Loss: 4.976964597719618e-06\n",
      "epoch:15| Train Loss: 1.7475486938132062e-06 | Test Loss: 4.921166493052927e-06\n",
      "epoch:16| Train Loss: 1.8778473455486598e-06 | Test Loss: 4.123528706259094e-06\n",
      "epoch:17| Train Loss: 1.2502187538692462e-06 | Test Loss: 6.0766283810759584e-06\n",
      "epoch:18| Train Loss: 1.7387043432487797e-06 | Test Loss: 3.3155533973412174e-06\n",
      "epoch:19| Train Loss: 1.0659015656745483e-06 | Test Loss: 3.2396729632940453e-06\n",
      "lr: 0.000729\n",
      "epoch:20| Train Loss: 1.3427104408730797e-06 | Test Loss: 3.197413451238794e-06\n",
      "epoch:21| Train Loss: 5.312080712818507e-06 | Test Loss: 2.5370719260536133e-05\n",
      "epoch:22| Train Loss: 3.0182023450227764e-06 | Test Loss: 4.120293283550483e-06\n",
      "epoch:23| Train Loss: 2.684788941267124e-06 | Test Loss: 3.3130552765214814e-06\n",
      "epoch:24| Train Loss: 1.8977742951219193e-06 | Test Loss: 3.381413297675964e-06\n",
      "epoch:25| Train Loss: 1.3750090996230332e-06 | Test Loss: 3.316887843539007e-06\n",
      "epoch:26| Train Loss: 9.967611826834312e-07 | Test Loss: 2.5363914852884286e-06\n",
      "epoch:27| Train Loss: 6.931614711252873e-07 | Test Loss: 2.4120250042566718e-06\n",
      "epoch:28| Train Loss: 5.470590902924803e-07 | Test Loss: 2.1639220447266578e-06\n",
      "epoch:29| Train Loss: 6.917245147979841e-07 | Test Loss: 2.300482975745884e-06\n",
      "lr: 0.000656\n",
      "epoch:30| Train Loss: 8.922891382618608e-07 | Test Loss: 2.382940404964352e-06\n",
      "epoch:31| Train Loss: 6.423913693565521e-07 | Test Loss: 2.6680829368059576e-06\n",
      "epoch:32| Train Loss: 1.998995289579311e-06 | Test Loss: 2.1570422815986806e-06\n",
      "epoch:33| Train Loss: 1.150225925812265e-06 | Test Loss: 1.7864855694319381e-06\n",
      "epoch:34| Train Loss: 8.087511292355235e-07 | Test Loss: 2.0649705994502356e-06\n",
      "epoch:35| Train Loss: 7.17179254587834e-07 | Test Loss: 2.0408418470954834e-06\n",
      "epoch:36| Train Loss: 4.4629367862182246e-07 | Test Loss: 1.87672931759961e-06\n",
      "epoch:37| Train Loss: 2.1214301693059193e-06 | Test Loss: 3.985068765258701e-06\n",
      "epoch:38| Train Loss: 1.8186812844110786e-06 | Test Loss: 5.966204938886221e-06\n",
      "epoch:39| Train Loss: 8.654168998743574e-07 | Test Loss: 1.8765382240720403e-06\n",
      "lr: 0.000590\n",
      "epoch:40| Train Loss: 2.839220304026856e-06 | Test Loss: 5.9294379486042694e-06\n",
      "epoch:41| Train Loss: 3.8107397733602693e-06 | Test Loss: 8.14917907640241e-06\n",
      "epoch:42| Train Loss: 4.57204070075282e-06 | Test Loss: 5.559427519579509e-06\n",
      "epoch:43| Train Loss: 4.173766420405757e-06 | Test Loss: 5.464988538329231e-06\n",
      "Early stopping at epoch 43. Best Test Loss: 0.000002\n"
     ]
    },
    {
     "data": {
      "text/plain": "<Figure size 640x480 with 1 Axes>",
      "image/png": "[encoded data removed]"
     },
     "metadata": {},
     "output_type": "display_data"
    }
   ],
   "source": [
    "model = train_embeddings(num_epochs, optimizer, device, model, criterion, train_loader, test_loader)"
   ],
   "metadata": {
    "collapsed": false,
    "ExecuteTime": {
     "end_time": "2025-02-17T05:20:49.944859Z",
     "start_time": "2025-02-17T05:10:11.865658900Z"
    }
   },
   "id": "c4bf5936fac6f70d"
  },
  {
   "cell_type": "markdown",
   "source": [
    "### 加载训练好的模型"
   ],
   "metadata": {
    "collapsed": false
   },
   "id": "8a4331640d7000f9"
  },
  {
   "cell_type": "code",
   "execution_count": 12,
   "outputs": [],
   "source": [
    "model_path = f'./scInferData/ModelParams/BreastTask2024.pth'"
   ],
   "metadata": {
    "collapsed": false,
    "ExecuteTime": {
     "end_time": "2025-02-24T11:27:57.977798700Z",
     "start_time": "2025-02-24T11:27:57.926928600Z"
    }
   },
   "id": "931291ddfe785491"
  },
  {
   "cell_type": "code",
   "execution_count": 14,
   "outputs": [],
   "source": [
    "torch.save(model.state_dict(), model_path)"
   ],
   "metadata": {
    "collapsed": false,
    "ExecuteTime": {
     "end_time": "2025-02-17T05:20:50.008295500Z",
     "start_time": "2025-02-17T05:20:49.926343200Z"
    }
   },
   "id": "1a200694a61fa39f"
  },
  {
   "cell_type": "code",
   "execution_count": 13,
   "outputs": [],
   "source": [
    "model = ContrastiveNetwork(input_size, hidden_size, embedding_size).to(device)"
   ],
   "metadata": {
    "collapsed": false,
    "ExecuteTime": {
     "end_time": "2025-02-24T11:28:05.711406700Z",
     "start_time": "2025-02-24T11:28:05.673498400Z"
    }
   },
   "id": "4dae7b0d0c356115"
  },
  {
   "cell_type": "code",
   "execution_count": 14,
   "outputs": [
    {
     "data": {
      "text/plain": "<All keys matched successfully>"
     },
     "execution_count": 14,
     "metadata": {},
     "output_type": "execute_result"
    }
   ],
   "source": [
    "model.load_state_dict(torch.load(model_path))"
   ],
   "metadata": {
    "collapsed": false,
    "ExecuteTime": {
     "end_time": "2025-02-24T11:28:06.426130500Z",
     "start_time": "2025-02-24T11:28:06.412020100Z"
    }
   },
   "id": "3d3d61e20761d9d1"
  },
  {
   "cell_type": "code",
   "execution_count": 15,
   "outputs": [
    {
     "data": {
      "text/plain": "ContrastiveNetwork(\n  (protein_branch): Sequential(\n    (0): Linear(in_features=127, out_features=32, bias=True)\n    (1): BatchNorm1d(32, eps=1e-05, momentum=0.1, affine=True, track_running_stats=True)\n    (2): ReLU()\n  )\n  (rna_branch): Sequential(\n    (0): Linear(in_features=2529, out_features=512, bias=True)\n    (1): BatchNorm1d(512, eps=1e-05, momentum=0.1, affine=True, track_running_stats=True)\n    (2): ReLU()\n    (3): Linear(in_features=512, out_features=256, bias=True)\n    (4): BatchNorm1d(256, eps=1e-05, momentum=0.1, affine=True, track_running_stats=True)\n    (5): ReLU()\n    (6): Linear(in_features=256, out_features=32, bias=True)\n    (7): BatchNorm1d(32, eps=1e-05, momentum=0.1, affine=True, track_running_stats=True)\n    (8): ReLU()\n  )\n)"
     },
     "execution_count": 15,
     "metadata": {},
     "output_type": "execute_result"
    }
   ],
   "source": [
    "model.eval()"
   ],
   "metadata": {
    "collapsed": false,
    "ExecuteTime": {
     "end_time": "2025-02-24T11:28:08.000487Z",
     "start_time": "2025-02-24T11:28:07.996215700Z"
    }
   },
   "id": "9d95dd583a0835f4"
  },
  {
   "cell_type": "code",
   "execution_count": 16,
   "outputs": [],
   "source": [
    "rna_em_ann, protein_em_ann = make_embeddings(model, device, rna_df, protein_df, rna, protein, celltype = 'celltype')"
   ],
   "metadata": {
    "collapsed": false,
    "ExecuteTime": {
     "end_time": "2025-02-24T11:28:14.325611300Z",
     "start_time": "2025-02-24T11:28:10.786610100Z"
    }
   },
   "id": "75a7fdc3a52b22b5"
  },
  {
   "cell_type": "code",
   "execution_count": 19,
   "outputs": [],
   "source": [
    "rna_em_ann.write('./scInferData/BreastTask/rna_embeddings.h5ad')\n",
    "protein_em_ann.write('./scInferData/BreastTask/protein_embeddings.h5ad')"
   ],
   "metadata": {
    "collapsed": false,
    "ExecuteTime": {
     "end_time": "2025-02-17T05:20:53.659342100Z",
     "start_time": "2025-02-17T05:20:53.581309300Z"
    }
   },
   "id": "fbbcaf99928e2c41"
  }
 ],
 "metadata": {
  "kernelspec": {
   "display_name": "Python 3",
   "language": "python",
   "name": "python3"
  },
  "language_info": {
   "codemirror_mode": {
    "name": "ipython",
    "version": 2
   },
   "file_extension": ".py",
   "mimetype": "text/x-python",
   "name": "python",
   "nbconvert_exporter": "python",
   "pygments_lexer": "ipython2",
   "version": "2.7.6"
  }
 },
 "nbformat": 4,
 "nbformat_minor": 5
}
